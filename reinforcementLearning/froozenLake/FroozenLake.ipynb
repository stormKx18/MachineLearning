{
 "cells": [
  {
   "cell_type": "code",
   "execution_count": 2,
   "metadata": {},
   "outputs": [],
   "source": [
    "#www.deeplizard.com\n",
    "import numpy as np\n",
    "import gym\n",
    "import random\n",
    "import time\n",
    "from IPython.display import clear_output"
   ]
  },
  {
   "cell_type": "code",
   "execution_count": 3,
   "metadata": {},
   "outputs": [],
   "source": [
    "env = gym.make('FrozenLake-v0')"
   ]
  },
  {
   "cell_type": "code",
   "execution_count": 4,
   "metadata": {},
   "outputs": [
    {
     "name": "stdout",
     "output_type": "stream",
     "text": [
      "[[0. 0. 0. 0.]\n",
      " [0. 0. 0. 0.]\n",
      " [0. 0. 0. 0.]\n",
      " [0. 0. 0. 0.]\n",
      " [0. 0. 0. 0.]\n",
      " [0. 0. 0. 0.]\n",
      " [0. 0. 0. 0.]\n",
      " [0. 0. 0. 0.]\n",
      " [0. 0. 0. 0.]\n",
      " [0. 0. 0. 0.]\n",
      " [0. 0. 0. 0.]\n",
      " [0. 0. 0. 0.]\n",
      " [0. 0. 0. 0.]\n",
      " [0. 0. 0. 0.]\n",
      " [0. 0. 0. 0.]\n",
      " [0. 0. 0. 0.]]\n"
     ]
    }
   ],
   "source": [
    "action_space_size = env.action_space.n\n",
    "state_space_size = env.observation_space.n\n",
    "\n",
    "#Initialize q-table with zeros\n",
    "q_table = np.zeros((state_space_size,action_space_size))\n",
    "print(q_table)"
   ]
  },
  {
   "cell_type": "code",
   "execution_count": 5,
   "metadata": {},
   "outputs": [],
   "source": [
    "num_episodes= 10000\n",
    "max_steps_per_episode = 100\n",
    "\n",
    "learning_rate=0.1\n",
    "discount_rate=0.99\n",
    "\n",
    "exploration_rate = 1\n",
    "max_exploration_rate = 1\n",
    "min_exploration_rate = 0.01\n",
    "exploration_decay_rate = 0.001"
   ]
  },
  {
   "cell_type": "code",
   "execution_count": 6,
   "metadata": {},
   "outputs": [
    {
     "name": "stdout",
     "output_type": "stream",
     "text": [
      "*******************Average reward per thousand episodes**********************\n",
      "\n",
      "1000 :  0.03300000000000002\n",
      "2000 :  0.18900000000000014\n",
      "3000 :  0.4100000000000003\n",
      "4000 :  0.5630000000000004\n",
      "5000 :  0.6490000000000005\n",
      "6000 :  0.6990000000000005\n",
      "7000 :  0.6700000000000005\n",
      "8000 :  0.7070000000000005\n",
      "9000 :  0.6860000000000005\n",
      "10000 :  0.6900000000000005\n",
      "\n",
      "\n",
      "************************Q-table******************************************\n",
      "\n",
      "[[0.50342054 0.50102024 0.50115278 0.50138552]\n",
      " [0.3019417  0.26320341 0.3713792  0.4804228 ]\n",
      " [0.43253619 0.42003587 0.4314511  0.46588879]\n",
      " [0.30359911 0.21107235 0.27095985 0.44460458]\n",
      " [0.51815917 0.3364136  0.42122458 0.36864471]\n",
      " [0.         0.         0.         0.        ]\n",
      " [0.21540272 0.10630024 0.32317285 0.15979933]\n",
      " [0.         0.         0.         0.        ]\n",
      " [0.29859595 0.32846446 0.42899604 0.54926906]\n",
      " [0.52389612 0.58274694 0.52587147 0.37142187]\n",
      " [0.53145569 0.43194663 0.41468532 0.36389486]\n",
      " [0.         0.         0.         0.        ]\n",
      " [0.         0.         0.         0.        ]\n",
      " [0.46618035 0.54988232 0.66617092 0.54381441]\n",
      " [0.729209   0.72663833 0.75844795 0.72563803]\n",
      " [0.         0.         0.         0.        ]]\n"
     ]
    }
   ],
   "source": [
    "rewards_all_episodes=[]\n",
    "\n",
    "# Q-learning algorithm\n",
    "for episode in range(num_episodes):\n",
    "    state = env.reset() #Reset game\n",
    "    \n",
    "    done = False #Initialize flag that indicates the game has ended\n",
    "    rewards_current_episode = 0 #Initialize reward for this episode\n",
    "    \n",
    "    for step in range(max_steps_per_episode):\n",
    "        #Exploration-exploitation trade-off\n",
    "        exploration_rate_threshold = random.uniform(0,1) #Get a random number between 0 and 1\n",
    "        if exploration_rate_threshold > exploration_rate:\n",
    "            action = np.argmax(q_table[state,:]) #Exploitation -> Best known action\n",
    "        else:\n",
    "            action = env.action_space.sample() #Exploration -> Random action\n",
    "        \n",
    "        new_state, reward, done, info = env.step(action) #Run action in the game\n",
    "        \n",
    "        #Update Q-table for Q(s,a)\n",
    "        q_table[state,action] = q_table[state,action] * (1 - learning_rate) + \\\n",
    "            learning_rate * (reward + discount_rate * np.max(q_table[new_state,:]))\n",
    "        \n",
    "        state = new_state #Update state\n",
    "        rewards_current_episode += reward #Save reward obtained in this step\n",
    "        \n",
    "        if done == True:\n",
    "            break\n",
    "        \n",
    "    #Exploration rate decay -> Reduce exploration after each episode\n",
    "    exploration_rate = min_exploration_rate + \\\n",
    "        (max_exploration_rate - min_exploration_rate) * np.exp(-exploration_decay_rate*episode)\n",
    "    \n",
    "    rewards_all_episodes.append(rewards_current_episode)\n",
    "        \n",
    "#Calculate and print the average reward per thousand of episodes\n",
    "rewards_per_thousand_episodes = np.split(np.array(rewards_all_episodes), num_episodes/1000)\n",
    "count = 1000\n",
    "print(\"*******************Average reward per thousand episodes**********************\\n\")\n",
    "for r in rewards_per_thousand_episodes:\n",
    "    print(count, \": \", str(sum(r/1000)))\n",
    "    count += 1000\n",
    "    \n",
    "#Print updated Q-table\n",
    "print(\"\\n\\n************************Q-table******************************************\\n\")\n",
    "print(q_table)"
   ]
  },
  {
   "cell_type": "code",
   "execution_count": 7,
   "metadata": {},
   "outputs": [
    {
     "name": "stdout",
     "output_type": "stream",
     "text": [
      "  (Right)\n",
      "SFFF\n",
      "FHFH\n",
      "FFFH\n",
      "HFF\u001b[41mG\u001b[0m\n",
      "***You reached the goal!***\n"
     ]
    }
   ],
   "source": [
    "#Watch train agent\n",
    "#Note: Agent do not always move to where it wants due to the slippery condition of the ice\n",
    "for episode in range(3):\n",
    "    state = env.reset() #Reset game\n",
    "    done = False\n",
    "    \n",
    "    print(\"**************EPISODE \", episode+1, \"**************\\n\\n\\n\\n\")\n",
    "    time.sleep(1)\n",
    "    \n",
    "    for step in range(max_steps_per_episode):\n",
    "        clear_output(wait=True) #Clears the output in the jupyter notebook\n",
    "        env.render() #Display the environment\n",
    "        time.sleep(0.15)\n",
    "        \n",
    "        action = np.argmax(q_table[state,:]) #Choose the best action according to q_table\n",
    "        new_state, reward, done, info = env.step(action) #Run action in the game\n",
    "        \n",
    "        if done:\n",
    "            clear_output(wait=True) #Clears the output in the jupyter notebook\n",
    "            env.render()  #Display the environment\n",
    "            if reward == 1:\n",
    "                print(\"***You reached the goal!***\")\n",
    "                time.sleep(3)\n",
    "            else:\n",
    "                print(\"***You fell through a hole!***\")\n",
    "                time.sleep(3)\n",
    "            clear_output(wait=True) #Clears the output in the jupyter notebook\n",
    "            break\n",
    "        \n",
    "        state= new_state #Update state\n",
    "        \n",
    "env.close() #Close the game\n",
    "        "
   ]
  },
  {
   "cell_type": "code",
   "execution_count": null,
   "metadata": {},
   "outputs": [],
   "source": [
    "\n",
    "        "
   ]
  },
  {
   "cell_type": "code",
   "execution_count": null,
   "metadata": {},
   "outputs": [],
   "source": []
  },
  {
   "cell_type": "code",
   "execution_count": null,
   "metadata": {},
   "outputs": [],
   "source": []
  }
 ],
 "metadata": {
  "kernelspec": {
   "display_name": "Python 3",
   "language": "python",
   "name": "python3"
  },
  "language_info": {
   "codemirror_mode": {
    "name": "ipython",
    "version": 3
   },
   "file_extension": ".py",
   "mimetype": "text/x-python",
   "name": "python",
   "nbconvert_exporter": "python",
   "pygments_lexer": "ipython3",
   "version": "3.5.2"
  }
 },
 "nbformat": 4,
 "nbformat_minor": 2
}
